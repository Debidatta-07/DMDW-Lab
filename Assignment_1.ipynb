{
  "nbformat": 4,
  "nbformat_minor": 5,
  "metadata": {
    "kernelspec": {
      "display_name": "Python 3 (ipykernel)",
      "language": "python",
      "name": "python3"
    },
    "language_info": {
      "codemirror_mode": {
        "name": "ipython",
        "version": 3
      },
      "file_extension": ".py",
      "mimetype": "text/x-python",
      "name": "python",
      "nbconvert_exporter": "python",
      "pygments_lexer": "ipython3",
      "version": "3.9.1"
    },
    "colab": {
      "name": "Assignment 1.ipynb",
      "provenance": [],
      "include_colab_link": true
    }
  },
  "cells": [
    {
      "cell_type": "markdown",
      "metadata": {
        "id": "view-in-github",
        "colab_type": "text"
      },
      "source": [
        "<a href=\"https://colab.research.google.com/github/Debidatta-07/DMDW-Lab/blob/main/Assignment_1.ipynb\" target=\"_parent\"><img src=\"https://colab.research.google.com/assets/colab-badge.svg\" alt=\"Open In Colab\"/></a>"
      ]
    },
    {
      "cell_type": "markdown",
      "metadata": {
        "id": "d765bfaf"
      },
      "source": [
        "## 1. Create a list in python . Next find mean and median of the list without using any builtin library functions"
      ],
      "id": "d765bfaf"
    },
    {
      "cell_type": "code",
      "metadata": {
        "id": "552c92dc",
        "outputId": "a000345b-cc6f-4f8b-f130-70a582568c00"
      },
      "source": [
        "lst = [12,35,18,9,56,24]\n",
        "n = len(lst)\n",
        "s = sum(lst)\n",
        "mean = s/n\n",
        "print(\"Mean is: \",mean)\n",
        "lst.sort()\n",
        "if n%2 == 0:\n",
        "    mid1 = lst[n//2]\n",
        "    mid2 = lst[n//2-1]\n",
        "    meadian = (mid1+mid2)//2\n",
        "else:\n",
        "    median = lst[n//2]\n",
        "print(meadian)"
      ],
      "id": "552c92dc",
      "execution_count": null,
      "outputs": [
        {
          "name": "stdout",
          "output_type": "stream",
          "text": [
            "Mean is:  25.666666666666668\n",
            "21\n"
          ]
        }
      ]
    },
    {
      "cell_type": "markdown",
      "metadata": {
        "id": "4b5ad6bd"
      },
      "source": [
        "## 2. Create list inj python. Next find the mode of the list without using any builtin library function"
      ],
      "id": "4b5ad6bd"
    },
    {
      "cell_type": "code",
      "metadata": {
        "id": "74eaaa77",
        "outputId": "3f84aeb2-fae1-4bb3-874c-d40af81109f9"
      },
      "source": [
        "list1=[2,3,1,1,6,2,1,5]\n",
        "list1.sort()\n",
        "list2 = []\n",
        "res = []\n",
        "for i in list1:\n",
        "    list2.append(list1.count(i))\n",
        "dic = dict(zip(list1,list2))\n",
        "for k,v in dic.items():\n",
        "    if v == max(list2):\n",
        "        res.append(k)\n",
        "print(\"Mode is: \",res)"
      ],
      "id": "74eaaa77",
      "execution_count": null,
      "outputs": [
        {
          "name": "stdout",
          "output_type": "stream",
          "text": [
            "Mode is:  [1]\n"
          ]
        }
      ]
    },
    {
      "cell_type": "markdown",
      "metadata": {
        "id": "fc4fba21"
      },
      "source": [
        "## 3. Create a list in python. Next find the second smallest number and second highest number in the list."
      ],
      "id": "fc4fba21"
    },
    {
      "cell_type": "code",
      "metadata": {
        "id": "c6c7ee05",
        "outputId": "c4e878ec-63c0-4e4c-c8d5-7c7d82f616a8"
      },
      "source": [
        "lst = [12,35,18,9,56,24]\n",
        "lst.sort()\n",
        "print(\"Second Smallest: \",lst[1])\n",
        "print(\"Second Highest: \",lst[-2])"
      ],
      "id": "c6c7ee05",
      "execution_count": null,
      "outputs": [
        {
          "name": "stdout",
          "output_type": "stream",
          "text": [
            "Second Smallest:  12\n",
            "Second Highest:  35\n"
          ]
        }
      ]
    },
    {
      "cell_type": "code",
      "metadata": {
        "id": "52c43125"
      },
      "source": [
        ""
      ],
      "id": "52c43125",
      "execution_count": null,
      "outputs": []
    }
  ]
}